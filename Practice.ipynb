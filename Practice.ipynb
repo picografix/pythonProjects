{
  "nbformat": 4,
  "nbformat_minor": 0,
  "metadata": {
    "colab": {
      "name": "Practice.ipynb",
      "provenance": []
    },
    "kernelspec": {
      "name": "python3",
      "display_name": "Python 3"
    }
  },
  "cells": [
    {
      "cell_type": "code",
      "metadata": {
        "id": "XCvmPdWoGe6i",
        "colab_type": "code",
        "colab": {
          "base_uri": "https://localhost:8080/",
          "height": 363
        },
        "outputId": "211dfcbc-188c-4db4-da10-b870f4548dcf"
      },
      "source": [
        "import numpy as np\n",
        "from scan_utils import scan_X, scan_Y, scan_W\n",
        "\n",
        "\n",
        "def compute_gradient_of_cost_function(X, Y, W):\n",
        "    ones = np.ones(len(X))\n",
        "    X = np.insert(X, 0, ones, axis=1)\n",
        "    m = len(X)\n",
        "    Y_pred = np.dot(X, W)\n",
        "    difference =  Y_pred - Y\n",
        "    dW = (1/m) * (np.dot(difference.T, X))\n",
        "    return dW\n",
        "\n",
        "\n",
        "if __name__ == \"__main__\":\n",
        "    M = int(input())\n",
        "    X = scan_X(M)\n",
        "    Y = scan_Y()\n",
        "    W = scan_W()\n",
        "\n",
        "    gradients = compute_gradient_of_cost_function(X, Y, W)\n",
        "    gradients = gradients.T\n",
        "    gradients = np.round(gradients.T[0], 3)\n",
        "    print(*gradients)"
      ],
      "execution_count": 30,
      "outputs": [
        {
          "output_type": "error",
          "ename": "ModuleNotFoundError",
          "evalue": "ignored",
          "traceback": [
            "\u001b[0;31m---------------------------------------------------------------------------\u001b[0m",
            "\u001b[0;31mModuleNotFoundError\u001b[0m                       Traceback (most recent call last)",
            "\u001b[0;32m<ipython-input-30-f5b9b29960cb>\u001b[0m in \u001b[0;36m<module>\u001b[0;34m()\u001b[0m\n\u001b[1;32m      1\u001b[0m \u001b[0;32mimport\u001b[0m \u001b[0mnumpy\u001b[0m \u001b[0;32mas\u001b[0m \u001b[0mnp\u001b[0m\u001b[0;34m\u001b[0m\u001b[0;34m\u001b[0m\u001b[0m\n\u001b[0;32m----> 2\u001b[0;31m \u001b[0;32mfrom\u001b[0m \u001b[0mscan_utils\u001b[0m \u001b[0;32mimport\u001b[0m \u001b[0mscan_X\u001b[0m\u001b[0;34m,\u001b[0m \u001b[0mscan_Y\u001b[0m\u001b[0;34m,\u001b[0m \u001b[0mscan_W\u001b[0m\u001b[0;34m\u001b[0m\u001b[0;34m\u001b[0m\u001b[0m\n\u001b[0m\u001b[1;32m      3\u001b[0m \u001b[0;34m\u001b[0m\u001b[0m\n\u001b[1;32m      4\u001b[0m \u001b[0;34m\u001b[0m\u001b[0m\n\u001b[1;32m      5\u001b[0m \u001b[0;32mdef\u001b[0m \u001b[0mcompute_gradient_of_cost_function\u001b[0m\u001b[0;34m(\u001b[0m\u001b[0mX\u001b[0m\u001b[0;34m,\u001b[0m \u001b[0mY\u001b[0m\u001b[0;34m,\u001b[0m \u001b[0mW\u001b[0m\u001b[0;34m)\u001b[0m\u001b[0;34m:\u001b[0m\u001b[0;34m\u001b[0m\u001b[0;34m\u001b[0m\u001b[0m\n",
            "\u001b[0;31mModuleNotFoundError\u001b[0m: No module named 'scan_utils'",
            "",
            "\u001b[0;31m---------------------------------------------------------------------------\u001b[0;32m\nNOTE: If your import is failing due to a missing package, you can\nmanually install dependencies using either !pip or !apt.\n\nTo view examples of installing some common dependencies, click the\n\"Open Examples\" button below.\n\u001b[0;31m---------------------------------------------------------------------------\u001b[0m\n"
          ]
        }
      ]
    },
    {
      "cell_type": "code",
      "metadata": {
        "id": "bAYhp9MlIacJ",
        "colab_type": "code",
        "colab": {}
      },
      "source": [
        "\n",
        "\"\"\"\n",
        "You can make use of compute_gradient_of_cost_function(X, Y, W)\n",
        "Arguments:\n",
        "X -- 2D numpy array of shape (number of observations, number of features + 1)\n",
        "Y -- true values for observations. A 2D numpy array of shape (number of observations, 1)\n",
        "W - weights for features. A 2D numpy array (number of features, 1)\n",
        "\n",
        "Returns:\n",
        "dW - Gradient of cost function of shape (number of features, 1)\n",
        "\"\"\"\n",
        "def optimize_weights_using_gradient_descent(X, Y, W, num_iterations, learning_rate):\n",
        "    for i in range(num_iterations):\n",
        "        dW = compute_gradient_of_cost_function(X, Y, W)\n",
        "        W = W - (learning_rate * dW)\n",
        "    return W"
      ],
      "execution_count": 27,
      "outputs": []
    },
    {
      "cell_type": "code",
      "metadata": {
        "id": "SOiq7l5ALGTS",
        "colab_type": "code",
        "colab": {}
      },
      "source": [
        ""
      ],
      "execution_count": null,
      "outputs": []
    }
  ]
}